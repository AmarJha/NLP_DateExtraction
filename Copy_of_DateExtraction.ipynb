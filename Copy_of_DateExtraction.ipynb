{
  "nbformat": 4,
  "nbformat_minor": 0,
  "metadata": {
    "colab": {
      "name": "Copy of DateExtraction.ipynb",
      "version": "0.3.2",
      "provenance": [],
      "include_colab_link": true
    },
    "kernelspec": {
      "name": "python3",
      "display_name": "Python 3"
    }
  },
  "cells": [
    {
      "cell_type": "markdown",
      "metadata": {
        "id": "view-in-github",
        "colab_type": "text"
      },
      "source": [
        "<a href=\"https://colab.research.google.com/github/AmarJha/NLP_DateExtraction/blob/master/Copy_of_DateExtraction.ipynb\" target=\"_parent\"><img src=\"https://colab.research.google.com/assets/colab-badge.svg\" alt=\"Open In Colab\"/></a>"
      ]
    },
    {
      "cell_type": "code",
      "metadata": {
        "id": "AaDktmHKdmhX",
        "colab_type": "code",
        "outputId": "df587edc-7c91-4afc-b1ca-69b672372962",
        "colab": {
          "base_uri": "https://localhost:8080/",
          "height": 292
        }
      },
      "source": [
        "!pip install datefinder"
      ],
      "execution_count": 0,
      "outputs": [
        {
          "output_type": "stream",
          "text": [
            "Collecting datefinder\n",
            "  Downloading https://files.pythonhosted.org/packages/16/2b/af8efaee30c0ba4238cb4d0645a07100d33d11d20a8783c443ed8b813eb9/datefinder-0.7.0-py2.py3-none-any.whl\n",
            "Requirement already satisfied: python-dateutil>=2.4.2 in /usr/local/lib/python3.6/dist-packages (from datefinder) (2.5.3)\n",
            "Collecting regex>=2017.02.08 (from datefinder)\n",
            "\u001b[?25l  Downloading https://files.pythonhosted.org/packages/6f/a6/99eeb5904ab763db87af4bd71d9b1dfdd9792681240657a4c0a599c10a81/regex-2019.08.19.tar.gz (654kB)\n",
            "\u001b[K     |████████████████████████████████| 655kB 4.1MB/s \n",
            "\u001b[?25hRequirement already satisfied: pytz in /usr/local/lib/python3.6/dist-packages (from datefinder) (2018.9)\n",
            "Requirement already satisfied: six>=1.5 in /usr/local/lib/python3.6/dist-packages (from python-dateutil>=2.4.2->datefinder) (1.12.0)\n",
            "Building wheels for collected packages: regex\n",
            "  Building wheel for regex (setup.py) ... \u001b[?25l\u001b[?25hdone\n",
            "  Created wheel for regex: filename=regex-2019.8.19-cp36-cp36m-linux_x86_64.whl size=609231 sha256=79b58e9e17ae0d8fe9a5294d0a2772674f761adb3bcf26dd68ec0583d62729d0\n",
            "  Stored in directory: /root/.cache/pip/wheels/90/04/07/b5010fb816721eb3d6dd64ed5cc8111ca23f97fdab8619b5be\n",
            "Successfully built regex\n",
            "Installing collected packages: regex, datefinder\n",
            "Successfully installed datefinder-0.7.0 regex-2019.8.19\n"
          ],
          "name": "stdout"
        }
      ]
    },
    {
      "cell_type": "code",
      "metadata": {
        "id": "J-VfXbGTdtM1",
        "colab_type": "code",
        "outputId": "1e590aaa-e3de-41a4-91e0-837350772768",
        "colab": {
          "base_uri": "https://localhost:8080/",
          "height": 102
        }
      },
      "source": [
        "!pip install date-extractor"
      ],
      "execution_count": 0,
      "outputs": [
        {
          "output_type": "stream",
          "text": [
            "Collecting date-extractor\n",
            "  Downloading https://files.pythonhosted.org/packages/11/ca/dffc3548478bdf0f138892a05d6c1a76e993b5cfe3749d255edf13d2f5c7/date_extractor-3.9.1-py3-none-any.whl\n",
            "Requirement already satisfied: pytz in /usr/local/lib/python3.6/dist-packages (from date-extractor) (2018.9)\n",
            "Installing collected packages: date-extractor\n",
            "Successfully installed date-extractor-3.9.1\n"
          ],
          "name": "stdout"
        }
      ]
    },
    {
      "cell_type": "code",
      "metadata": {
        "id": "MbYRPdamd4Zy",
        "colab_type": "code",
        "colab": {}
      },
      "source": [
        "from date_extractor import extract_dates\n",
        "text = \"I arrived in that city on January 4, 1937\"\n",
        "dates = extract_dates(text)"
      ],
      "execution_count": 0,
      "outputs": []
    },
    {
      "cell_type": "code",
      "metadata": {
        "id": "moeCNjV2gFmE",
        "colab_type": "code",
        "outputId": "fda6ad28-5410-4aa9-8528-a8fa4fe2b53a",
        "colab": {
          "base_uri": "https://localhost:8080/",
          "height": 34
        }
      },
      "source": [
        "#year date month\n",
        "dates"
      ],
      "execution_count": 0,
      "outputs": [
        {
          "output_type": "execute_result",
          "data": {
            "text/plain": [
              "[datetime.datetime(1937, 1, 4, 0, 0, tzinfo=<UTC>)]"
            ]
          },
          "metadata": {
            "tags": []
          },
          "execution_count": 7
        }
      ]
    },
    {
      "cell_type": "code",
      "metadata": {
        "id": "lwqWGhDggSbF",
        "colab_type": "code",
        "outputId": "61d0b3cd-fbe9-4665-cc99-5b59dc05a082",
        "colab": {
          "base_uri": "https://localhost:8080/",
          "height": 51
        }
      },
      "source": [
        "!pip install python-dateutil\n"
      ],
      "execution_count": 0,
      "outputs": [
        {
          "output_type": "stream",
          "text": [
            "Requirement already satisfied: python-dateutil in /usr/local/lib/python3.6/dist-packages (2.5.3)\n",
            "Requirement already satisfied: six>=1.5 in /usr/local/lib/python3.6/dist-packages (from python-dateutil) (1.12.0)\n"
          ],
          "name": "stdout"
        }
      ]
    },
    {
      "cell_type": "code",
      "metadata": {
        "id": "QpNFR5XHgjqV",
        "colab_type": "code",
        "outputId": "9af7aeff-4821-4729-9d90-60f65a74ed53",
        "colab": {
          "base_uri": "https://localhost:8080/",
          "height": 34
        }
      },
      "source": [
        "from dateutil.parser import parse\n",
        " \n",
        "parse(\"Today is 12-01-18\", fuzzy_with_tokens=True)"
      ],
      "execution_count": 0,
      "outputs": [
        {
          "output_type": "execute_result",
          "data": {
            "text/plain": [
              "(datetime.datetime(2018, 12, 1, 0, 0), ('Today is ',))"
            ]
          },
          "metadata": {
            "tags": []
          },
          "execution_count": 8
        }
      ]
    },
    {
      "cell_type": "code",
      "metadata": {
        "id": "afGGMTcv0pTj",
        "colab_type": "code",
        "colab": {}
      },
      "source": [
        "result = parse(\"Today is 12-01-18\", fuzzy_with_tokens=True)"
      ],
      "execution_count": 0,
      "outputs": []
    },
    {
      "cell_type": "code",
      "metadata": {
        "id": "NvVNE7bL0zeg",
        "colab_type": "code",
        "outputId": "3fae0bdb-98ab-43a1-90bc-bb88148c952a",
        "colab": {
          "base_uri": "https://localhost:8080/",
          "height": 34
        }
      },
      "source": [
        "result"
      ],
      "execution_count": 0,
      "outputs": [
        {
          "output_type": "execute_result",
          "data": {
            "text/plain": [
              "(datetime.datetime(2018, 12, 1, 0, 0), ('Today is ',))"
            ]
          },
          "metadata": {
            "tags": []
          },
          "execution_count": 10
        }
      ]
    },
    {
      "cell_type": "code",
      "metadata": {
        "id": "4aV5DBFy01JA",
        "colab_type": "code",
        "outputId": "a6ddc717-a5fc-4197-f7f6-365b195c8068",
        "colab": {
          "base_uri": "https://localhost:8080/",
          "height": 34
        }
      },
      "source": [
        "parse(\"Today is December 1, 2018\", fuzzy_with_tokens=True)\n",
        " \n",
        "parse(\"Today is Dec 1 2018\", fuzzy_with_tokens=True)\n",
        " \n",
        "parse(\"Today is Dec 1\", fuzzy_with_tokens=True)"
      ],
      "execution_count": 0,
      "outputs": [
        {
          "output_type": "execute_result",
          "data": {
            "text/plain": [
              "(datetime.datetime(2019, 12, 1, 0, 0), ('Today is ', ' '))"
            ]
          },
          "metadata": {
            "tags": []
          },
          "execution_count": 14
        }
      ]
    },
    {
      "cell_type": "code",
      "metadata": {
        "id": "0QvTM-GO1BoB",
        "colab_type": "code",
        "outputId": "4ebac0f7-d3f6-4ef7-bff4-c284d3f3286a",
        "colab": {
          "base_uri": "https://localhost:8080/",
          "height": 34
        }
      },
      "source": [
        "res1=parse(\"Today is December 1, 2018\", fuzzy_with_tokens=True)\n",
        "res1"
      ],
      "execution_count": 0,
      "outputs": [
        {
          "output_type": "execute_result",
          "data": {
            "text/plain": [
              "(datetime.datetime(2018, 12, 1, 0, 0), ('Today is ', ' ', ' '))"
            ]
          },
          "metadata": {
            "tags": []
          },
          "execution_count": 15
        }
      ]
    },
    {
      "cell_type": "code",
      "metadata": {
        "id": "v84JSgjM1Ibh",
        "colab_type": "code",
        "outputId": "641b58e4-16a1-4702-b82a-7ef1def78596",
        "colab": {
          "base_uri": "https://localhost:8080/",
          "height": 34
        }
      },
      "source": [
        "res2=parse(\"Today is Dec 1 2018\", fuzzy_with_tokens=True)\n",
        "res2"
      ],
      "execution_count": 0,
      "outputs": [
        {
          "output_type": "execute_result",
          "data": {
            "text/plain": [
              "(datetime.datetime(2018, 12, 1, 0, 0), ('Today is ', ' '))"
            ]
          },
          "metadata": {
            "tags": []
          },
          "execution_count": 16
        }
      ]
    },
    {
      "cell_type": "code",
      "metadata": {
        "id": "TuEXOf-u1NBi",
        "colab_type": "code",
        "outputId": "61782504-ae26-4faa-98f9-5836286aa904",
        "colab": {
          "base_uri": "https://localhost:8080/",
          "height": 34
        }
      },
      "source": [
        "res3=parse(\"Today is Dec 1\", fuzzy_with_tokens=True)\n",
        "res3"
      ],
      "execution_count": 0,
      "outputs": [
        {
          "output_type": "execute_result",
          "data": {
            "text/plain": [
              "(datetime.datetime(2019, 12, 1, 0, 0), ('Today is ', ' '))"
            ]
          },
          "metadata": {
            "tags": []
          },
          "execution_count": 17
        }
      ]
    },
    {
      "cell_type": "markdown",
      "metadata": {
        "id": "M55nomvm1mg6",
        "colab_type": "text"
      },
      "source": [
        "In the third line of code above, we don’t specify the year. Here, dateutil assumes by default the year associated with the date is the current one (2018).\n",
        "###parse(\"Today is December 1, 2018\", fuzzy_with_tokens=True)\n",
        " \n",
        "###parse(\"Today is Dec 1 2018\", fuzzy_with_tokens=True)\n",
        " \n",
        "###parse(\"Today is Dec 1\", fuzzy_with_tokens=True)"
      ]
    },
    {
      "cell_type": "code",
      "metadata": {
        "id": "TmVrC9FK1R_i",
        "colab_type": "code",
        "outputId": "a8a80f86-279b-4b37-cf4f-3144db101b1c",
        "colab": {
          "base_uri": "https://localhost:8080/",
          "height": 102
        }
      },
      "source": [
        "from dateutil import parser \n",
        "  \n",
        "print (parser.parse(' Thu Sep 25 10:36:28 2010')) \n",
        "  \n",
        "print (parser.parse('Thursday, 25. September 2010 10:36AM')) \n",
        "  \n",
        "print (parser.parse('9 / 25 / 2010 10:36:28')) \n",
        "  \n",
        "print (parser.parse('9 / 25 / 2010')) \n",
        "  \n",
        "print (parser.parse('2010-09-25T10:36:28Z')) "
      ],
      "execution_count": 0,
      "outputs": [
        {
          "output_type": "stream",
          "text": [
            "2010-09-25 10:36:28\n",
            "2010-09-25 10:36:00\n",
            "2010-09-25 10:36:28\n",
            "2010-09-25 00:00:00\n",
            "2010-09-25 10:36:28+00:00\n"
          ],
          "name": "stdout"
        }
      ]
    },
    {
      "cell_type": "code",
      "metadata": {
        "id": "Aj-2sI9bRzUB",
        "colab_type": "code",
        "outputId": "cfbc9152-2291-4d7d-f406-a53eaf30208d",
        "colab": {
          "base_uri": "https://localhost:8080/",
          "height": 34
        }
      },
      "source": [
        "from dateutil import parser \n",
        "  \n",
        "result= (parser.parse(\"Thu Sep 25 10:36:28 2010\")) \n",
        "result"
      ],
      "execution_count": 0,
      "outputs": [
        {
          "output_type": "execute_result",
          "data": {
            "text/plain": [
              "datetime.datetime(2010, 9, 25, 10, 36, 28)"
            ]
          },
          "metadata": {
            "tags": []
          },
          "execution_count": 5
        }
      ]
    },
    {
      "cell_type": "code",
      "metadata": {
        "id": "cjH3exJ3TQ33",
        "colab_type": "code",
        "outputId": "fd0fba09-bca3-4c9f-d80e-7a03a26aa4c7",
        "colab": {
          "base_uri": "https://localhost:8080/",
          "height": 34
        }
      },
      "source": [
        "from date_extractor import extract_dates\n",
        "text = \"I arrived in that city on January 4, 1937\"\n",
        "dates = extract_dates(text)\n",
        "print(dates)"
      ],
      "execution_count": 0,
      "outputs": [
        {
          "output_type": "stream",
          "text": [
            "[datetime.datetime(1937, 1, 4, 0, 0, tzinfo=<UTC>)]\n"
          ],
          "name": "stdout"
        }
      ]
    },
    {
      "cell_type": "code",
      "metadata": {
        "id": "ZULrIKVCT7Zw",
        "colab_type": "code",
        "outputId": "0d6b2f14-f3a1-49e8-eb58-1aa026acae91",
        "colab": {
          "base_uri": "https://localhost:8080/",
          "height": 34
        }
      },
      "source": [
        "from date_extractor import extract_dates\n",
        "text = \"I arrived in that city on January 4th, 1937\"\n",
        "dates = extract_dates(text)\n",
        "print(dates)"
      ],
      "execution_count": 0,
      "outputs": [
        {
          "output_type": "stream",
          "text": [
            "[datetime.datetime(1937, 1, 1, 0, 0, tzinfo=<UTC>)]\n"
          ],
          "name": "stdout"
        }
      ]
    },
    {
      "cell_type": "code",
      "metadata": {
        "id": "YY2OhC4EUK9v",
        "colab_type": "code",
        "outputId": "ae161e80-84d9-4ea4-8a8c-9a9d93bf70b1",
        "colab": {
          "base_uri": "https://localhost:8080/",
          "height": 34
        }
      },
      "source": [
        "from dateutil.parser import parse\n",
        "parse(\"Central design committee session Tuesday 10/22 6:30 pm\", fuzzy=True)"
      ],
      "execution_count": 0,
      "outputs": [
        {
          "output_type": "execute_result",
          "data": {
            "text/plain": [
              "datetime.datetime(2019, 10, 22, 18, 30)"
            ]
          },
          "metadata": {
            "tags": []
          },
          "execution_count": 11
        }
      ]
    },
    {
      "cell_type": "code",
      "metadata": {
        "id": "ZxTbLZ9HUr2f",
        "colab_type": "code",
        "outputId": "ec5bfa63-54ae-474e-ebbd-ce96d2ec1a30",
        "colab": {
          "base_uri": "https://localhost:8080/",
          "height": 34
        }
      },
      "source": [
        "import dateutil.parser as dparser\n",
        "dparser.parse(\"monkey 2010-07-10 love banana\",fuzzy=True)"
      ],
      "execution_count": 0,
      "outputs": [
        {
          "output_type": "execute_result",
          "data": {
            "text/plain": [
              "datetime.datetime(2010, 7, 10, 0, 0)"
            ]
          },
          "metadata": {
            "tags": []
          },
          "execution_count": 12
        }
      ]
    },
    {
      "cell_type": "code",
      "metadata": {
        "id": "XmDkPG7jVM0g",
        "colab_type": "code",
        "colab": {}
      },
      "source": [
        "##dparser.parse(\"monkey 2010-07-32 love banana\",fuzzy=True)"
      ],
      "execution_count": 0,
      "outputs": []
    },
    {
      "cell_type": "markdown",
      "metadata": {
        "id": "C6uWr--uVU33",
        "colab_type": "text"
      },
      "source": [
        "# ValueError: day is out of range for month"
      ]
    },
    {
      "cell_type": "code",
      "metadata": {
        "id": "hKmf3GIBVa41",
        "colab_type": "code",
        "outputId": "79f7e03a-eb98-4302-bd97-3c4a0676f186",
        "colab": {
          "base_uri": "https://localhost:8080/",
          "height": 343
        }
      },
      "source": [
        "import dateutil.parser as dparser\n",
        "dparser.parse(\"monkey 10/01/1980 love 7/10/2010 banana\",fuzzy=True)"
      ],
      "execution_count": 0,
      "outputs": [
        {
          "output_type": "error",
          "ename": "ValueError",
          "evalue": "ignored",
          "traceback": [
            "\u001b[0;31m---------------------------------------------------------------------------\u001b[0m",
            "\u001b[0;31mValueError\u001b[0m                                Traceback (most recent call last)",
            "\u001b[0;32m<ipython-input-16-47e39a7e80ba>\u001b[0m in \u001b[0;36m<module>\u001b[0;34m()\u001b[0m\n\u001b[1;32m      1\u001b[0m \u001b[0;32mimport\u001b[0m \u001b[0mdateutil\u001b[0m\u001b[0;34m.\u001b[0m\u001b[0mparser\u001b[0m \u001b[0;32mas\u001b[0m \u001b[0mdparser\u001b[0m\u001b[0;34m\u001b[0m\u001b[0;34m\u001b[0m\u001b[0m\n\u001b[0;32m----> 2\u001b[0;31m \u001b[0mdparser\u001b[0m\u001b[0;34m.\u001b[0m\u001b[0mparse\u001b[0m\u001b[0;34m(\u001b[0m\u001b[0;34m\"monkey 10/01/1980 love 7/10/2010 banana\"\u001b[0m\u001b[0;34m,\u001b[0m\u001b[0mfuzzy\u001b[0m\u001b[0;34m=\u001b[0m\u001b[0;32mTrue\u001b[0m\u001b[0;34m)\u001b[0m\u001b[0;34m\u001b[0m\u001b[0;34m\u001b[0m\u001b[0m\n\u001b[0m",
            "\u001b[0;32m/usr/local/lib/python3.6/dist-packages/dateutil/parser.py\u001b[0m in \u001b[0;36mparse\u001b[0;34m(timestr, parserinfo, **kwargs)\u001b[0m\n\u001b[1;32m   1162\u001b[0m         \u001b[0;32mreturn\u001b[0m \u001b[0mparser\u001b[0m\u001b[0;34m(\u001b[0m\u001b[0mparserinfo\u001b[0m\u001b[0;34m)\u001b[0m\u001b[0;34m.\u001b[0m\u001b[0mparse\u001b[0m\u001b[0;34m(\u001b[0m\u001b[0mtimestr\u001b[0m\u001b[0;34m,\u001b[0m \u001b[0;34m**\u001b[0m\u001b[0mkwargs\u001b[0m\u001b[0;34m)\u001b[0m\u001b[0;34m\u001b[0m\u001b[0;34m\u001b[0m\u001b[0m\n\u001b[1;32m   1163\u001b[0m     \u001b[0;32melse\u001b[0m\u001b[0;34m:\u001b[0m\u001b[0;34m\u001b[0m\u001b[0;34m\u001b[0m\u001b[0m\n\u001b[0;32m-> 1164\u001b[0;31m         \u001b[0;32mreturn\u001b[0m \u001b[0mDEFAULTPARSER\u001b[0m\u001b[0;34m.\u001b[0m\u001b[0mparse\u001b[0m\u001b[0;34m(\u001b[0m\u001b[0mtimestr\u001b[0m\u001b[0;34m,\u001b[0m \u001b[0;34m**\u001b[0m\u001b[0mkwargs\u001b[0m\u001b[0;34m)\u001b[0m\u001b[0;34m\u001b[0m\u001b[0;34m\u001b[0m\u001b[0m\n\u001b[0m\u001b[1;32m   1165\u001b[0m \u001b[0;34m\u001b[0m\u001b[0m\n\u001b[1;32m   1166\u001b[0m \u001b[0;34m\u001b[0m\u001b[0m\n",
            "\u001b[0;32m/usr/local/lib/python3.6/dist-packages/dateutil/parser.py\u001b[0m in \u001b[0;36mparse\u001b[0;34m(self, timestr, default, ignoretz, tzinfos, **kwargs)\u001b[0m\n\u001b[1;32m    553\u001b[0m \u001b[0;34m\u001b[0m\u001b[0m\n\u001b[1;32m    554\u001b[0m         \u001b[0;32mif\u001b[0m \u001b[0mres\u001b[0m \u001b[0;32mis\u001b[0m \u001b[0;32mNone\u001b[0m\u001b[0;34m:\u001b[0m\u001b[0;34m\u001b[0m\u001b[0;34m\u001b[0m\u001b[0m\n\u001b[0;32m--> 555\u001b[0;31m             \u001b[0;32mraise\u001b[0m \u001b[0mValueError\u001b[0m\u001b[0;34m(\u001b[0m\u001b[0;34m\"Unknown string format\"\u001b[0m\u001b[0;34m)\u001b[0m\u001b[0;34m\u001b[0m\u001b[0;34m\u001b[0m\u001b[0m\n\u001b[0m\u001b[1;32m    556\u001b[0m \u001b[0;34m\u001b[0m\u001b[0m\n\u001b[1;32m    557\u001b[0m         \u001b[0;32mif\u001b[0m \u001b[0mlen\u001b[0m\u001b[0;34m(\u001b[0m\u001b[0mres\u001b[0m\u001b[0;34m)\u001b[0m \u001b[0;34m==\u001b[0m \u001b[0;36m0\u001b[0m\u001b[0;34m:\u001b[0m\u001b[0;34m\u001b[0m\u001b[0;34m\u001b[0m\u001b[0m\n",
            "\u001b[0;31mValueError\u001b[0m: Unknown string format"
          ]
        }
      ]
    },
    {
      "cell_type": "code",
      "metadata": {
        "id": "07xfKjbJqJIe",
        "colab_type": "code",
        "colab": {}
      },
      "source": [
        "import datefinder\n",
        "string_with_dates = \"\"\"entries are due by January 4th, 2017 at 8:00pm created 01/15/2005 by ACME Inc. and associates.\"\"\"\n",
        "\n",
        "matches = datefinder.find_dates(string_with_dates)\n"
      ],
      "execution_count": 0,
      "outputs": []
    },
    {
      "cell_type": "code",
      "metadata": {
        "id": "AkU5_LtqrwRm",
        "colab_type": "code",
        "outputId": "98e24b42-7394-4cd1-b36d-cf56d38f0fdd",
        "colab": {
          "base_uri": "https://localhost:8080/",
          "height": 51
        }
      },
      "source": [
        "for match in matches:\n",
        " print(match)"
      ],
      "execution_count": 0,
      "outputs": [
        {
          "output_type": "stream",
          "text": [
            "2017-01-04 20:00:00\n",
            "2005-01-15 00:00:00\n"
          ],
          "name": "stdout"
        }
      ]
    },
    {
      "cell_type": "markdown",
      "metadata": {
        "id": "iVetv3BEs4gl",
        "colab_type": "text"
      },
      "source": [
        "This module finds the likely datetime strings and then uses `dateutil`to convert to the datetime object."
      ]
    },
    {
      "cell_type": "code",
      "metadata": {
        "id": "2zZlxvPmsRnB",
        "colab_type": "code",
        "colab": {}
      },
      "source": [
        ""
      ],
      "execution_count": 0,
      "outputs": []
    },
    {
      "cell_type": "code",
      "metadata": {
        "id": "izVErpNcs-O1",
        "colab_type": "code",
        "colab": {}
      },
      "source": [
        ""
      ],
      "execution_count": 0,
      "outputs": []
    }
  ]
}